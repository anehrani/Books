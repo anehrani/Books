{
  "nbformat": 4,
  "nbformat_minor": 0,
  "metadata": {
    "colab": {
      "provenance": [],
      "toc_visible": true,
      "authorship_tag": "ABX9TyPSOTtsPXOlkAdVqh79Pt/O",
      "include_colab_link": true
    },
    "kernelspec": {
      "name": "python3",
      "display_name": "Python 3"
    },
    "language_info": {
      "name": "python"
    }
  },
  "cells": [
    {
      "cell_type": "markdown",
      "metadata": {
        "id": "view-in-github",
        "colab_type": "text"
      },
      "source": [
        "<a href=\"https://colab.research.google.com/github/anehrani/Tutorials/blob/main/mathopt_optimization.ipynb\" target=\"_parent\"><img src=\"https://colab.research.google.com/assets/colab-badge.svg\" alt=\"Open In Colab\"/></a>"
      ]
    },
    {
      "cell_type": "code",
      "execution_count": 1,
      "metadata": {
        "colab": {
          "base_uri": "https://localhost:8080/"
        },
        "id": "NzpD0AImTy39",
        "outputId": "4480fe83-3bd2-47bc-8530-8e9741a5f8aa"
      },
      "outputs": [
        {
          "output_type": "stream",
          "name": "stdout",
          "text": [
            "Requirement already satisfied: mathopt in /usr/local/lib/python3.10/dist-packages (0.1.1)\n",
            "Requirement already satisfied: sympy in /usr/local/lib/python3.10/dist-packages (from mathopt) (1.13.2)\n",
            "Requirement already satisfied: mpmath<1.4,>=1.1.0 in /usr/local/lib/python3.10/dist-packages (from sympy->mathopt) (1.3.0)\n",
            "Requirement already satisfied: ortools in /usr/local/lib/python3.10/dist-packages (9.11.4210)\n",
            "Requirement already satisfied: absl-py>=2.0.0 in /usr/local/lib/python3.10/dist-packages (from ortools) (2.1.0)\n",
            "Requirement already satisfied: numpy>=1.13.3 in /usr/local/lib/python3.10/dist-packages (from ortools) (1.26.4)\n",
            "Requirement already satisfied: pandas>=2.0.0 in /usr/local/lib/python3.10/dist-packages (from ortools) (2.1.4)\n",
            "Requirement already satisfied: protobuf<5.27,>=5.26.1 in /usr/local/lib/python3.10/dist-packages (from ortools) (5.26.1)\n",
            "Requirement already satisfied: immutabledict>=3.0.0 in /usr/local/lib/python3.10/dist-packages (from ortools) (4.2.0)\n",
            "Requirement already satisfied: python-dateutil>=2.8.2 in /usr/local/lib/python3.10/dist-packages (from pandas>=2.0.0->ortools) (2.8.2)\n",
            "Requirement already satisfied: pytz>=2020.1 in /usr/local/lib/python3.10/dist-packages (from pandas>=2.0.0->ortools) (2024.2)\n",
            "Requirement already satisfied: tzdata>=2022.1 in /usr/local/lib/python3.10/dist-packages (from pandas>=2.0.0->ortools) (2024.1)\n",
            "Requirement already satisfied: six>=1.5 in /usr/local/lib/python3.10/dist-packages (from python-dateutil>=2.8.2->pandas>=2.0.0->ortools) (1.16.0)\n"
          ]
        }
      ],
      "source": [
        "!pip install mathopt\n",
        "!pip install ortools"
      ]
    },
    {
      "cell_type": "code",
      "source": [
        "from absl import app\n",
        "import numpy as np\n",
        "\n",
        "from ortools.math_opt.python import mathopt"
      ],
      "metadata": {
        "id": "91J7WaG5cyxm"
      },
      "execution_count": 3,
      "outputs": []
    },
    {
      "cell_type": "code",
      "source": [
        "\"\"\"\n",
        " Function for getting the initial information of the Boxes\n",
        "\"\"\"\n",
        "def get_bin_info():\n",
        "    \"\"\"\n",
        "        Columns: id, quantity, length, width, height, max weight, COM_x, COM_y, COM_z\n",
        "\n",
        "\n",
        "    \"\"\"\n",
        "    # assuming data is stored as follows in csv file\n",
        "    bins_data = [\n",
        "        [0, 2, 900, 900, 900, 800, 750, 750, 0],\n",
        "        #[1, 2, 700, 700, 700, 500, 250, 250, 0],\n",
        "\n",
        "    ]\n",
        "    bins = []\n",
        "\n",
        "    for b in bins_data:\n",
        "        for _ in range(b[1]):\n",
        "            bins.append( b )\n",
        "\n",
        "    return np.array(bins)\n",
        "\n",
        "\n",
        "\n",
        "\"\"\"\n",
        "Function for getting the initial information of the items\n",
        "\"\"\"\n",
        "def get_item_info():\n",
        "    \"\"\"\n",
        "        Columns are: id, quantity, length, width, height, weight, family, incompatibilities, stackability_below, stackability_above, rotatability_X, rotatability_Y, rotatability_Z\n",
        "\n",
        "        stackability_below: if 1 cant put any item on top of this item\n",
        "        stackability_above: if 1 cant put this item on top of any other item\n",
        "\n",
        "        data is similar to the csv file structure\n",
        "    \"\"\"\n",
        "    data_csv = [\n",
        "                [0, 6, 118, 147, 216, 50, 1, 0, 0, 0, 0, 0, 0],\n",
        "                [1, 8, 115, 165, 264, 20, 0, 0, 0, 0, 0, 0, 0],\n",
        "                [2, 8, 120, 196, 267, 20, 0, 0, 0, 0, 0, 0, 0],\n",
        "                [3,12, 171, 107, 301, 20, 1, 0, 0, 0, 0, 0, 0],\n",
        "                [4, 7, 180, 118, 298, 20, 0, 0, 0, 0, 0, 0, 0],\n",
        "                [5, 9, 165, 121, 338, 20, 0, 0, 0, 0, 0, 0, 0],\n",
        "                [6,15, 185, 149, 257, 20, 0, 0, 0, 0, 0, 0, 0],\n",
        "                [7,15, 197, 158, 251, 50, 0, 0, 0, 0, 0, 0, 0],\n",
        "                [8, 6, 107, 162, 207, 20, 1, 0, 0, 0, 0, 0, 0],\n",
        "                [9, 8, 101, 199, 296, 20, 0, 0, 0, 0, 0, 0, 0],\n",
        "            ]\n",
        "    # data_csv = [\n",
        "    #             [0, 6, 218, 247, 216, 50, 1, 0, 0, 0, 0, 0, 0],\n",
        "    #             [1, 2, 215, 265,  64, 20, 0, 0, 0, 0, 0, 0, 0],\n",
        "    #             [2, 3, 220, 296, 267, 20, 0, 0, 0, 0, 0, 0, 0],\n",
        "    #             [3, 6, 171, 307, 101, 20, 1, 0, 0, 0, 0, 0, 0],\n",
        "    #             [4, 1, 280, 318, 298, 20, 0, 0, 0, 0, 0, 0, 0],\n",
        "    #             [5, 2, 265, 321, 138, 20, 0, 0, 0, 0, 0, 0, 0],\n",
        "    #             [6, 3, 185, 349, 157, 20, 0, 0, 0, 0, 0, 0, 0],\n",
        "    #             [7, 5, 297, 358, 151, 50, 0, 0, 0, 0, 0, 0, 0],\n",
        "    #             [8, 6, 207, 362, 107, 20, 1, 0, 0, 0, 0, 0, 0],\n",
        "    #             [9, 4, 201, 399,  96, 20, 0, 0, 0, 0, 0, 0, 0],\n",
        "    #         ]\n",
        "\n",
        "    # setting the incompatibilities\n",
        "    incompatibilities = np.zeros((len(data_csv), len(data_csv)) )\n",
        "    for k in range(incompatibilities.shape[0]):\n",
        "        for i in range(k):\n",
        "            if data_csv[i][7] == data_csv[k][7] and data_csv[i][7] > 0:\n",
        "                incompatibilities[i, k] = 1\n",
        "\n",
        "    # setting the alpha values for the family constraint\n",
        "    alpha = {}\n",
        "\n",
        "\n",
        "    # parsing data <this part to be implemented later >\n",
        "    data_mat = []\n",
        "    for b in data_csv:\n",
        "        for i in range(b[1]):\n",
        "            data_mat.append( [i] + b )\n",
        "    data_mat = np.array(data_mat)\n",
        "\n",
        "    families = set(map(int, data_mat[:, 7]))\n",
        "    N = data_mat.shape[0]\n",
        "    for f in families:\n",
        "        for i in range(N):\n",
        "            alpha[(i, f)] = 1 if data_mat[i][7] == f else 0\n",
        "\n",
        "\n",
        "    return data_mat, alpha, incompatibilities, families, data_mat[:,9], data_mat[:,10], data_mat[:,11], data_mat[:,12], data_mat[:,13]\n"
      ],
      "metadata": {
        "id": "iJncoNacegL0"
      },
      "execution_count": 7,
      "outputs": []
    },
    {
      "cell_type": "code",
      "source": [
        "def define_variables(hsmodel , constants: dict ):\n",
        "\n",
        "\n",
        "    # adding p_{ij} and u_{j}\n",
        "    for j  in range(constants[\"num_bins\"]):\n",
        "        hsmodel.add_binary_variable (name= \"u_\" + str(j) )\n",
        "        for i in range(constants[\"num_boxes\"]):\n",
        "            hsmodel.add_binary_variable(name= \"p_\" + str(i) + \"_\" + str(j) )\n",
        "\n",
        "    # adding x^{+}_{ik} and x^{-}_{ik}, y^{+}_{ik} and y^{-}_{ik}, z^{+}_{ik} and z^{-}_{ik}\n",
        "    # these are the binary variables that indicate the order of the item i in the bin k\n",
        "    # NOTE: always second one is larger index (due to symmetry only upper triangular is considered)\n",
        "    for i in range(constants[\"num_boxes\"]):\n",
        "        for k in range(i, constants[\"num_boxes\"]):\n",
        "            hsmodel.add_binary_variable(name= \"x_p_\" + str(i) + \"_\" + str(k) )\n",
        "            hsmodel.add_binary_variable(name= \"x_n_\" + str(i) + \"_\" + str(k) )\n",
        "            hsmodel.add_binary_variable(name= \"y_p_\" + str(i) + \"_\" + str(k) )\n",
        "            hsmodel.add_binary_variable(name= \"y_n_\" + str(i) + \"_\" + str(k) )\n",
        "            hsmodel.add_binary_variable(name= \"z_p_\" + str(i) + \"_\" + str(k) )\n",
        "            hsmodel.add_binary_variable(name= \"z_n_\" + str(i) + \"_\" + str(k) )\n",
        "\n",
        "    # adding the orientation variables\n",
        "    for i in range(constants[\"num_boxes\"]):\n",
        "        hsmodel.add_binary_variable(name= \"lx_\" + str(i)  )\n",
        "        hsmodel.add_binary_variable(name= \"ly_\" + str(i)  )\n",
        "        hsmodel.add_binary_variable(name= \"lz_\" + str(i)  )\n",
        "        #\n",
        "        hsmodel.add_binary_variable(name= \"wx_\" + str(i)  )\n",
        "        hsmodel.add_binary_variable(name= \"wy_\" + str(i)  )\n",
        "        hsmodel.add_binary_variable(name= \"wz_\" + str(i)  )\n",
        "        #\n",
        "        hsmodel.add_binary_variable(name= \"hx_\" + str(i)  )\n",
        "        hsmodel.add_binary_variable(name= \"hy_\" + str(i)  )\n",
        "        hsmodel.add_binary_variable(name= \"hz_\" + str(i)  )\n",
        "\n",
        "\n",
        "    # adding family variables (in this specific example there is only one family)\n",
        "    for j in range(constants[\"num_bins\"]):\n",
        "        for f in range( constants[\"num_families\"] ):\n",
        "            hsmodel.add_binary_variable(name= \"beta_\" + str(j) + \"_\" + str(f) )\n",
        "\n",
        "    # adding the continuous variables (xyz coordinates of the items)\n",
        "    for i in range(constants[\"num_boxes\"]):\n",
        "        hsmodel.add_variable(name= \"x_\" + str(i)) # L\n",
        "        hsmodel.add_variable(name= \"y_\" + str(i)) # W\n",
        "        hsmodel.add_variable(name= \"z_\" + str(i)) # H\n",
        "\n",
        "\n",
        "    # adding the continuous variables (gx gy gz coordinates of the bins)\n",
        "    for j in range(constants[\"num_bins\"]):\n",
        "        hsmodel.add_variable(name= \"gx_\" + str(j))\n",
        "        hsmodel.add_variable(name= \"gy_\" + str(j))\n",
        "        hsmodel.add_variable(name= \"gz_\" + str(j))\n",
        "        # extra variables\n",
        "        hsmodel.add_variable(name= \"ex_p_\" + str(j), lb=0, ub=constants[\"M\"])\n",
        "        hsmodel.add_variable(name= \"ex_n_\" + str(j), lb=0, ub=constants[\"M\"])\n",
        "        hsmodel.add_variable(name= \"ey_p_\" + str(j), lb=0, ub=constants[\"M\"])\n",
        "        hsmodel.add_variable(name= \"ey_n_\" + str(j), lb=0, ub=constants[\"M\"])\n",
        "        hsmodel.add_variable(name= \"ez_p_\" + str(j), lb=0, ub=constants[\"M\"])\n",
        "        hsmodel.add_variable(name= \"ez_n_\" + str(j), lb=0, ub=constants[\"M\"])\n",
        "\n",
        "    # variables for center of gravity handling\n",
        "    for j in range( constants[\"num_bins\"] ):\n",
        "        for i in range(constants[\"num_boxes\"]):\n",
        "            hsmodel.add_variable(name= \"c_\" + str(i) + \"_\" + str(j), lb=0, ub=constants[\"M\"])\n",
        "            hsmodel.add_variable(name= \"d_\" + str(i) + \"_\" + str(j), lb=0, ub=constants[\"M\"])\n",
        "            hsmodel.add_variable(name= \"e_\" + str(i) + \"_\" + str(j), lb=0, ub=constants[\"M\"])\n",
        "            hsmodel.add_variable(name= \"t_\" + str(i) + \"_\" + str(j), lb=0, ub=constants[\"M\"])\n",
        "            hsmodel.add_variable(name= \"v_\" + str(i) + \"_\" + str(j), lb=0, ub=constants[\"M\"])\n",
        "            hsmodel.add_variable(name= \"m_\" + str(i) + \"_\" + str(j), lb=0, ub=constants[\"M\"])\n",
        "            hsmodel.add_variable(name= \"n_\" + str(i) + \"_\" + str(j), lb=0, ub=constants[\"M\"])\n",
        "            hsmodel.add_binary_variable(name= \"b_\" + str(i) + \"_\" + str(j) )\n",
        "            hsmodel.add_binary_variable(name= \"r_\" + str(i) + \"_\" + str(j) )\n",
        "            hsmodel.add_binary_variable(name= \"s_\" + str(i) + \"_\" + str(j) )\n",
        "            # newly added variables\n",
        "            hsmodel.add_variable(name= \"phx_\" + str(i) + \"_\" + str(j), lb=0, ub=constants[\"M\"])\n",
        "            hsmodel.add_variable(name= \"phy_\" + str(i) + \"_\" + str(j), lb=0, ub=constants[\"M\"])\n",
        "            hsmodel.add_variable(name= \"plz_\" + str(i) + \"_\" + str(j), lb=0, ub=constants[\"M\"])\n",
        "            hsmodel.add_variable(name= \"pwz_\" + str(i) + \"_\" + str(j), lb=0, ub=constants[\"M\"])\n",
        "            hsmodel.add_variable(name= \"phz_\" + str(i) + \"_\" + str(j), lb=0, ub=constants[\"M\"])\n",
        "\n",
        "    return hsmodel"
      ],
      "metadata": {
        "id": "rUwsoNa4g8rN"
      },
      "execution_count": 11,
      "outputs": []
    },
    {
      "cell_type": "code",
      "source": [
        "# large scalar\n",
        "M = 100000\n",
        "\n",
        "# number of bins\n",
        "in_data, family_alpha, incompatibles, families, stackability_below, stackability_above, rot_x, rot_y, rot_z = get_item_info()\n",
        "bins_info = get_bin_info()\n",
        "\n",
        "J = bins_info.shape[0]\n",
        "F = len(families)\n",
        "\n",
        "# number of items\n",
        "N : int = in_data.shape[0]\n",
        "\n",
        "constants = {\n",
        "        \"num_bins\": J,\n",
        "        \"num_boxes\": N,\n",
        "        \"num_families\": F,\n",
        "        \"M\": M,\n",
        "    }"
      ],
      "metadata": {
        "id": "I_dYyWPUe_gV"
      },
      "execution_count": 27,
      "outputs": []
    },
    {
      "cell_type": "code",
      "source": [
        "model = mathopt.Model(name=\"Advanced linear programming example\")"
      ],
      "metadata": {
        "id": "TJHvxlbgfQK9"
      },
      "execution_count": 9,
      "outputs": []
    },
    {
      "cell_type": "code",
      "source": [
        "#v1 = model.variables()\n",
        "#for item in v1:\n",
        "    #print(item.name)\n",
        "    #print(item.id)\n"
      ],
      "metadata": {
        "id": "dh0d0Hf_hFKJ"
      },
      "execution_count": 26,
      "outputs": []
    },
    {
      "cell_type": "code",
      "source": [
        "model = define_variables( model, constants )"
      ],
      "metadata": {
        "id": "CjgCZsFfffed"
      },
      "execution_count": 14,
      "outputs": []
    },
    {
      "cell_type": "code",
      "source": [
        "varsDict = {}\n",
        "modelVars = model.variables()\n",
        "for var in modelVars:\n",
        "    varsDict[var.name] = var"
      ],
      "metadata": {
        "id": "hxwHKkMtiYkP"
      },
      "execution_count": 25,
      "outputs": []
    },
    {
      "cell_type": "code",
      "source": [
        "## adding the constraints\n",
        "#  ensure that an item i can be assigned to a bin j only if bin j is used EQ(4) pij ≤ uj ∀i ∈ I, ∀j ∈ J\n",
        "for j in range(J):\n",
        "    for i in range(N):\n",
        "        model.add_linear_constraint( varsDict[\"p_\" + str(i) + \"_\" + str(j) ] <= varsDict[\"u_\" + str(j) ], name= \"c1_\" + str(i) + \"_\" + str(j),  )\n"
      ],
      "metadata": {
        "id": "wmox_CDgqLBt"
      },
      "execution_count": 30,
      "outputs": []
    },
    {
      "cell_type": "code",
      "source": [
        "    # ensure that each item i is packed only in one bin J\n",
        "    for i in range(N):\n",
        "        model.add_linear_constraint( np.sum( [ varsDict[\"p_\" + str(i) + \"_\" + str(j) ] for j in range(J) ] ) <= 1, name= \"c2_1_\" + str(i), )\n"
      ],
      "metadata": {
        "id": "PmiQTS0_sTE5"
      },
      "execution_count": 31,
      "outputs": []
    },
    {
      "cell_type": "code",
      "source": [
        "for j in range(J):\n",
        "    for i in range(N):\n",
        "        model.add_linear_constraint( varsDict[\"x_\" + str(i) ] + in_data[i][3]*varsDict[\"lx_\" + str(i) ] + in_data[i][4]*varsDict[\"wx_\" + str(i) ] + in_data[i][5]*varsDict[\"hx_\" + str(i) ] + 0.1 <= bins_info[j, 2] * varsDict[\"u_\" + str(j) ] + (1 - varsDict[\"p_\" + str(i) + \"_\" + str(j) ] ) * M, name= \"c3x_\" + str(i) + \"_\" + str(j), )\n",
        "        model.add_linear_constraint( varsDict[\"y_\" + str(i) ] + in_data[i][3]*varsDict[\"ly_\" + str(i) ] + in_data[i][4]*varsDict[\"wy_\" + str(i) ] + in_data[i][5]*varsDict[\"hy_\" + str(i) ] + 0.1 <= bins_info[j, 3] * varsDict[\"u_\" + str(j) ] + (1 - varsDict[\"p_\" + str(i) + \"_\" + str(j) ] ) * M, name= \"c3y_\" + str(i) + \"_\" + str(j), )\n",
        "        model.add_linear_constraint( varsDict[\"z_\" + str(i) ] + in_data[i][3]*varsDict[\"lz_\" + str(i) ] + in_data[i][4]*varsDict[\"wz_\" + str(i) ] + in_data[i][5]*varsDict[\"hz_\" + str(i) ] + 0.1 <= bins_info[j, 4] * varsDict[\"u_\" + str(j) ] + (1 - varsDict[\"p_\" + str(i) + \"_\" + str(j) ] ) * M, name= \"c3z_\" + str(i) + \"_\" + str(j), )\n"
      ],
      "metadata": {
        "id": "w_ibyDYasqer"
      },
      "execution_count": 32,
      "outputs": []
    },
    {
      "cell_type": "code",
      "source": [
        "for k in range(N):\n",
        "    for i in range(k):\n",
        "        model.add_linear_constraint( varsDict[\"x_\" + str(i) ] + in_data[i][3]* varsDict[\"lx_\" + str(i) ] + in_data[i][4]* varsDict[\"wx_\" + str(i) ] + in_data[i][5]* varsDict[\"hx_\" + str(i) ] + 0.1 <= varsDict[\"x_\" + str(k) ] + (1 - varsDict[\"x_p_\" + str(i) + \"_\" + str(k) ] )*M , name= \"c4xp_\" + str(i) + \"_\" + str(k), )\n",
        "        model.add_linear_constraint( varsDict[\"x_\" + str(k) ] + in_data[k][3]* varsDict[\"lx_\" + str(k) ] + in_data[k][4]* varsDict[\"wx_\" + str(k) ] + in_data[k][5]* varsDict[\"hx_\" + str(k) ] + 0.1 <= varsDict[\"x_\" + str(i) ] + (1 - varsDict[\"x_n_\" + str(i) + \"_\" + str(k) ] )*M , name= \"c4xn_\" + str(i) + \"_\" + str(k), )\n",
        "        model.add_linear_constraint( varsDict[\"y_\" + str(i) ] + in_data[i][3]* varsDict[\"ly_\" + str(i) ] + in_data[i][4]* varsDict[\"wy_\" + str(i) ] + in_data[i][5]* varsDict[\"hy_\" + str(i) ] + 0.1 <= varsDict[\"y_\" + str(k) ] + (1 - varsDict[\"y_p_\" + str(i) + \"_\" + str(k) ] )*M , name= \"c4yp_\" + str(i) + \"_\" + str(k), )\n",
        "        model.add_linear_constraint( varsDict[\"y_\" + str(k) ] + in_data[k][3]* varsDict[\"ly_\" + str(k) ] + in_data[k][4]* varsDict[\"wy_\" + str(k) ] + in_data[k][5]* varsDict[\"hy_\" + str(k) ] + 0.1 <= varsDict[\"y_\" + str(i) ] + (1 - varsDict[\"y_n_\" + str(i) + \"_\" + str(k) ] )*M , name= \"c4yn_\" + str(i) + \"_\" + str(k), )\n",
        "        model.add_linear_constraint( varsDict[\"z_\" + str(i) ] + in_data[i][3]* varsDict[\"lz_\" + str(i) ] + in_data[i][4]* varsDict[\"wz_\" + str(i) ] + in_data[i][5]* varsDict[\"hz_\" + str(i) ] + 0.1 <= varsDict[\"z_\" + str(k) ] + (1 - varsDict[\"z_p_\" + str(i) + \"_\" + str(k) ] )*M , name= \"c4zp_\" + str(i) + \"_\" + str(k), )\n",
        "        model.add_linear_constraint( varsDict[\"z_\" + str(k) ] + in_data[k][3]* varsDict[\"lz_\" + str(k) ] + in_data[k][4]* varsDict[\"wz_\" + str(k) ] + in_data[k][5]* varsDict[\"hz_\" + str(k) ] + 0.1 <= varsDict[\"z_\" + str(i) ] + (1 - varsDict[\"z_n_\" + str(i) + \"_\" + str(k) ] )*M , name= \"c4zn_\" + str(i) + \"_\" + str(k), )\n",
        ""
      ],
      "metadata": {
        "id": "r2-hle46tObg"
      },
      "execution_count": 33,
      "outputs": []
    },
    {
      "cell_type": "code",
      "source": [
        "for j in range(J):\n",
        "    for k in range(N):\n",
        "        for i in range(k):\n",
        "            model.add_linear_constraint( varsDict[\"x_p_\" + str(i) + \"_\" + str(k) ] + varsDict[\"x_n_\" + str(i) + \"_\" + str(k) ] + varsDict[\"y_p_\" + str(i) + \"_\" + str(k) ] + varsDict[\"y_n_\" + str(i) + \"_\" + str(k) ] + varsDict[\"z_p_\" + str(i) + \"_\" + str(k) ] + varsDict[\"z_n_\" + str(i) + \"_\" + str(k) ] >= varsDict[\"p_\" + str(i) + \"_\" + str(j) ] + varsDict[\"p_\" + str(k) + \"_\" + str(j) ] - 1, name= \"c5_\" + str(i) + \"_\" + str(k), )\n"
      ],
      "metadata": {
        "id": "HsD1F3htt_eX"
      },
      "execution_count": 34,
      "outputs": []
    },
    {
      "cell_type": "code",
      "source": [
        "for j in range(J):\n",
        "    for k in range(N):\n",
        "        for i in range(k):\n",
        "            if stackability_below[k] > 0:\n",
        "                model.add_linear_constraint(\n",
        "                    varsDict[\"z_p_\" + str(i) + \"_\" + str(k) ] <= varsDict[\"x_p_\" + str(i) + \"_\" + str(k) ] + varsDict[\"x_n_\" + str(i) + \"_\" + str(k) ] + varsDict[\"y_p_\" + str(i) + \"_\" + str(k) ] + varsDict[\"y_n_\" + str(i) + \"_\" + str(k) ] + ( 2 - varsDict[\"p_\" + str(k) + \"_\" + str(j) ] + varsDict[\"p_\" + str(i) + \"_\" + str(j) ] ), name= \"c5_1_\" + str(i) + \"_\" + str(k), )\n",
        "            if stackability_above[k] > 0:\n",
        "                model.add_linear_constraint(\n",
        "                    varsDict[\"z_n_\" + str(i) + \"_\" + str(k) ] <= varsDict[\"x_p_\" + str(i) + \"_\" + str(k) ] + varsDict[\"x_n_\" + str(i) + \"_\" + str(k) ] + varsDict[\"y_p_\" + str(i) + \"_\" + str(k) ] + varsDict[\"y_n_\" + str(i) + \"_\" + str(k) ] + ( 2 - varsDict[\"p_\" + str(k) + \"_\" + str(j) ] + varsDict[\"p_\" + str(i) + \"_\" + str(j) ] ), name= \"c5_2_\" + str(i) + \"_\" + str(k), )\n",
        "\n"
      ],
      "metadata": {
        "id": "3_Uh8I2y2BeD"
      },
      "execution_count": 35,
      "outputs": []
    },
    {
      "cell_type": "code",
      "source": [
        "    # Constraints (16)-(19) define the proper orientations for each item ----->>> NEW CONSTRAINTS\n",
        "    for i in range(N):\n",
        "        model.add_linear_constraint( varsDict[\"lx_\" + str(i) ] + varsDict[\"ly_\" + str(i) ] + varsDict[\"lz_\" + str(i) ] == 1, name= \"c6_1_\" + str(i), )\n",
        "        model.add_linear_constraint( varsDict[\"wx_\" + str(i) ] + varsDict[\"wy_\" + str(i) ] + varsDict[\"wz_\" + str(i) ] == 1, name= \"c6_2_\" + str(i), )\n",
        "        model.add_linear_constraint( varsDict[\"hx_\" + str(i) ] + varsDict[\"hy_\" + str(i) ] + varsDict[\"hz_\" + str(i) ] == 1, name= \"c6_3_\" + str(i), )\n",
        "        model.add_linear_constraint( varsDict[\"lx_\" + str(i) ] + varsDict[\"wx_\" + str(i) ] + varsDict[\"hx_\" + str(i) ] == 1, name= \"c6_4_\" + str(i), )\n",
        "        model.add_linear_constraint( varsDict[\"ly_\" + str(i) ] + varsDict[\"wy_\" + str(i) ] + varsDict[\"hy_\" + str(i) ] == 1, name= \"c6_5_\" + str(i), )\n",
        "        model.add_linear_constraint( varsDict[\"lz_\" + str(i) ] + varsDict[\"wz_\" + str(i) ] + varsDict[\"hz_\" + str(i) ] == 1, name= \"c6_6_\" + str(i), )\n",
        "\n",
        ""
      ],
      "metadata": {
        "id": "ZvwN_D2x3wu3"
      },
      "execution_count": 36,
      "outputs": []
    },
    {
      "cell_type": "code",
      "source": [
        "# this prevents to rotate box\n",
        "for i in range(N):\n",
        "    if rot_z[i] == 0:\n",
        "        model.add_linear_constraint ( varsDict[\"hz_\" + str(i) ] == 1, name= \"c6_7_\" + str(i), )"
      ],
      "metadata": {
        "id": "wd9nXBvd4G1J"
      },
      "execution_count": 37,
      "outputs": []
    },
    {
      "cell_type": "code",
      "source": [
        "for j in range(J):\n",
        "    model.add_linear_constraint( np.sum( [ in_data[i][6]* varsDict[\"p_\" + str(i) + \"_\" + str(j) ] for i in range(N) ] ) <= bins_info[j, 5] * varsDict[\"u_\" + str(j) ], name= \"c7_\" + str(j), )"
      ],
      "metadata": {
        "id": "FNkj7siB4TzM"
      },
      "execution_count": 38,
      "outputs": []
    },
    {
      "cell_type": "code",
      "source": [],
      "metadata": {
        "id": "dkI1vPBR5BBZ"
      },
      "execution_count": null,
      "outputs": []
    }
  ]
}